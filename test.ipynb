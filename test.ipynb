{
 "cells": [
  {
   "cell_type": "markdown",
   "metadata": {},
   "source": [
    "#### Zephyr-7B 5-bit Quantized Model"
   ]
  },
  {
   "cell_type": "code",
   "execution_count": null,
   "metadata": {},
   "outputs": [],
   "source": [
    "!pip install ctransformers>=0.2.27"
   ]
  },
  {
   "cell_type": "code",
   "execution_count": null,
   "metadata": {},
   "outputs": [],
   "source": [
    "from ctransformers import AutoModelForCausalLM, AutoConfig, Config"
   ]
  },
  {
   "cell_type": "code",
   "execution_count": null,
   "metadata": {},
   "outputs": [],
   "source": [
    "local_llm = \"zephyr-7b-beta.Q5_K_S.gguf\""
   ]
  },
  {
   "cell_type": "code",
   "execution_count": 12,
   "metadata": {},
   "outputs": [],
   "source": [
    "conf = AutoConfig(Config(temperature=0.8, context_length= 2040))\n",
    "\n",
    "llm = AutoModelForCausalLM.from_pretrained(local_llm,model_type=\"mistral\",config =conf)"
   ]
  },
  {
   "cell_type": "code",
   "execution_count": 13,
   "metadata": {},
   "outputs": [
    {
     "name": "stdout",
     "output_type": "stream",
     "text": [
      "\n",
      "\n",
      "The Hello World program is one of the simplest programs that you can write in any programming language. This program simply prints out the message \"Hello World\" when it runs. In Python, we can implement this program using the following steps:\n",
      "\n",
      "1. Open your favorite code editor and create a new file.\n",
      "2. Save the file with a .py extension (e.g., hello.py).\n",
      "3. Type the following lines of code into the file:\n",
      "\n",
      "```python\n",
      "print(\"Hello World\")\n",
      "```\n",
      "\n",
      "4. Save the file again, and then run it using the Python interpreter or your preferred IDE.\n",
      "5. You should see the message \"Hello World\" printed out in the console when the program runs.\n",
      "\n",
      "That's it! You have just created a simple Hello World program in Python. As you can see, Python is an easy-to-learn and powerful programming language that is widely used in web development, data analysis, scientific computing, and many other fields. I hope this helps you get started with Python, and feel free to reach out if you have any questions or need further assistance!\n"
     ]
    }
   ],
   "source": [
    "prompt = \"Write a program of hello world in python?\"\n",
    "\n",
    "answer = llm(prompt,temperature=0.7)\n",
    "print(answer)"
   ]
  }
 ],
 "metadata": {
  "kernelspec": {
   "display_name": "base",
   "language": "python",
   "name": "python3"
  },
  "language_info": {
   "codemirror_mode": {
    "name": "ipython",
    "version": 3
   },
   "file_extension": ".py",
   "mimetype": "text/x-python",
   "name": "python",
   "nbconvert_exporter": "python",
   "pygments_lexer": "ipython3",
   "version": "3.9.7"
  }
 },
 "nbformat": 4,
 "nbformat_minor": 2
}
